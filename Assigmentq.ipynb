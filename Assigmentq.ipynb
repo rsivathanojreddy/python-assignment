{
  "nbformat": 4,
  "nbformat_minor": 0,
  "metadata": {
    "colab": {
      "provenance": [],
      "authorship_tag": "ABX9TyMIfM0B8DF+A0UNltDIjiam",
      "include_colab_link": true
    },
    "kernelspec": {
      "name": "python3",
      "display_name": "Python 3"
    },
    "language_info": {
      "name": "python"
    }
  },
  "cells": [
    {
      "cell_type": "markdown",
      "metadata": {
        "id": "view-in-github",
        "colab_type": "text"
      },
      "source": [
        "<a href=\"https://colab.research.google.com/github/rsivathanojreddy/python-assignment/blob/main/Untitled0.ipynb\" target=\"_parent\"><img src=\"https://colab.research.google.com/assets/colab-badge.svg\" alt=\"Open In Colab\"/></a>"
      ]
    },
    {
      "cell_type": "code",
      "execution_count": 1,
      "metadata": {
        "colab": {
          "base_uri": "https://localhost:8080/"
        },
        "id": "SpTvCeDccS_A",
        "outputId": "91a40390-89c7-4c6d-9eb1-359023fc724c"
      },
      "outputs": [
        {
          "output_type": "stream",
          "name": "stdout",
          "text": [
            "Inventory for warehouse: Main Warehouse\n",
            "- Laptop (SKU001): 50 units\n",
            "- Mouse (SKU002): 30 units\n"
          ]
        }
      ],
      "source": [
        "class Product:\n",
        "  def __init__(self, sku, name, description, unit_cost, reorder_point, reorder_quantity):\n",
        "    self.sku = sku\n",
        "    self.name = name\n",
        "    self.description = description\n",
        "    self.unit_cost = unit_cost\n",
        "    self.reorder_point = reorder_point\n",
        "    self.reorder_quantity = reorder_quantity\n",
        "\n",
        "class Warehouse:\n",
        "  def __init__(self, name, location):\n",
        "    self.name = name\n",
        "    self.location = location\n",
        "    self.inventory = {} # Dictionary to store stock levels: {Product: quantity}\n",
        "\n",
        "  def add_inventory(self, product, quantity):\n",
        "    if product in self.inventory:\n",
        "      self.inventory[product] += quantity\n",
        "    else:\n",
        "      self.inventory[product] = quantity\n",
        "\n",
        "  def remove_inventory(self, product, quantity):\n",
        "    if product in self.inventory:\n",
        "      if self.inventory[product] >= quantity:\n",
        "        self.inventory[product] -= quantity\n",
        "      else:\n",
        "        print(\"Insufficient stock for product:\", product.name)\n",
        "    else:\n",
        "      print(\"Product not found in inventory:\", product.name)\n",
        "\n",
        "# Example usage:\n",
        "product1 = Product(\"SKU001\", \"Laptop\", \"High-performance laptop\", 1000, 10, 20)\n",
        "product2 = Product(\"SKU002\", \"Mouse\", \"Wireless mouse\", 20, 5, 10)\n",
        "\n",
        "warehouse1 = Warehouse(\"Main Warehouse\", \"New York\")\n",
        "warehouse1.add_inventory(product1, 50)\n",
        "warehouse1.add_inventory(product2, 30)\n",
        "\n",
        "# 2. Implement an inventory tracking application (partial)\n",
        "\n",
        "# This is a simplified example. A real application would involve user interfaces,\n",
        "# database integration, and more complex logic for inventory management.\n",
        "\n",
        "def display_inventory(warehouse):\n",
        "  print(\"Inventory for warehouse:\", warehouse.name)\n",
        "  for product, quantity in warehouse.inventory.items():\n",
        "    print(f\"- {product.name} ({product.sku}): {quantity} units\")\n",
        "\n",
        "display_inventory(warehouse1)\n"
      ]
    }
  ]
}
